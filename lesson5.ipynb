{
  "nbformat": 4,
  "nbformat_minor": 0,
  "metadata": {
    "colab": {
      "provenance": [],
      "include_colab_link": true
    },
    "kernelspec": {
      "name": "python3",
      "display_name": "Python 3"
    },
    "language_info": {
      "name": "python"
    }
  },
  "cells": [
    {
      "cell_type": "markdown",
      "metadata": {
        "id": "view-in-github",
        "colab_type": "text"
      },
      "source": [
        "<a href=\"https://colab.research.google.com/github/manaswithak/DDS/blob/main/lesson5.ipynb\" target=\"_parent\"><img src=\"https://colab.research.google.com/assets/colab-badge.svg\" alt=\"Open In Colab\"/></a>"
      ]
    },
    {
      "cell_type": "markdown",
      "source": [
        "#📘 Lesson 5: Representation of Linear Arrays in Memory\n",
        "\n",
        "#🎯 Objectives:\n",
        "Understand how linear arrays are stored in memory\n",
        "\n",
        "Learn the concept of contiguous memory allocation\n",
        "\n",
        "Explore examples in Python and C\n",
        "\n",
        "\n",
        "#📚 What is a Linear Array?\n",
        "A linear array is a collection of elements stored sequentially in memory.\n",
        "Each element is accessed using an index, with the first element at index 0.\n",
        "\n",
        "#🧠 Real-world analogy:\n",
        "Think of a row of mailboxes. Each mailbox (element) has an address, and they’re placed side by side in order.\n",
        "Knowing the first address, you can find the rest by counting steps.\n",
        "\n",
        "#🧠 Memory Representation:\n",
        "If an array starts at address 1000 and each int takes 4 bytes,\n",
        "the addresses will be: 1000, 1004, 1008, 1012, ...\n",
        "\n",
        "This is called contiguous allocation.\n"
      ],
      "metadata": {
        "id": "BMqgzJ6DxrCR"
      }
    },
    {
      "cell_type": "markdown",
      "source": [
        "#⚙️ Run C Code in Colab (GCC)\n",
        "✅ Step 1: Write C Code"
      ],
      "metadata": {
        "id": "Ikup7hT5yK3Z"
      }
    },
    {
      "cell_type": "code",
      "source": [
        "c_code = \"\"\"\n",
        "#include <stdio.h>\n",
        "\n",
        "int main() {\n",
        "    int arr[5] = {10, 20, 30, 40, 50};\n",
        "    for (int i = 0; i < 5; i++) {\n",
        "        printf(\"Index: %d, Value: %d, Address: %p\\\\n\", i, arr[i], (void*)&arr[i]);\n",
        "    }\n",
        "    return 0;\n",
        "}\n",
        "\"\"\"\n",
        "\n",
        "with open(\"lesson5.c\", \"w\") as f:\n",
        "    f.write(c_code)\n"
      ],
      "metadata": {
        "id": "W3_necl_yUWH"
      },
      "execution_count": null,
      "outputs": []
    },
    {
      "cell_type": "markdown",
      "source": [
        "✅ Step 2: Compile and Run C"
      ],
      "metadata": {
        "id": "B2eenFDZzZ26"
      }
    },
    {
      "cell_type": "code",
      "source": [
        "!gcc lesson5.c -o lesson5\n",
        "!./lesson5\n"
      ],
      "metadata": {
        "colab": {
          "base_uri": "https://localhost:8080/"
        },
        "id": "cez6FcZuzbfj",
        "outputId": "52981c51-416b-4e5e-ce19-4958db3dba56"
      },
      "execution_count": null,
      "outputs": [
        {
          "output_type": "stream",
          "name": "stdout",
          "text": [
            "Index: 0, Value: 10, Address: 0x7ffd6d003690\n",
            "Index: 1, Value: 20, Address: 0x7ffd6d003694\n",
            "Index: 2, Value: 30, Address: 0x7ffd6d003698\n",
            "Index: 3, Value: 40, Address: 0x7ffd6d00369c\n",
            "Index: 4, Value: 50, Address: 0x7ffd6d0036a0\n"
          ]
        }
      ]
    },
    {
      "cell_type": "markdown",
      "source": [
        "✅ C++ Version of the Code"
      ],
      "metadata": {
        "id": "OhOs91bezlxD"
      }
    },
    {
      "cell_type": "code",
      "source": [
        "cpp_code = \"\"\"\n",
        "#include <iostream>\n",
        "using namespace std;\n",
        "\n",
        "int main() {\n",
        "    int arr[5] = {10, 20, 30, 40, 50};\n",
        "    for (int i = 0; i < 5; i++) {\n",
        "        cout << \"Index: \" << i << \", Value: \" << arr[i]\n",
        "             << \", Address: \" << &arr[i] << endl;\n",
        "    }\n",
        "    return 0;\n",
        "}\n",
        "\"\"\"\n",
        "\n",
        "with open(\"lesson5.cpp\", \"w\") as f:\n",
        "    f.write(cpp_code)\n"
      ],
      "metadata": {
        "id": "W3HJVcHNzp01"
      },
      "execution_count": null,
      "outputs": []
    },
    {
      "cell_type": "markdown",
      "source": [
        "🔧 Compile with:"
      ],
      "metadata": {
        "id": "8OmG2aUJz1rJ"
      }
    },
    {
      "cell_type": "code",
      "source": [
        "!g++ lesson5.cpp -o lesson5cpp\n",
        "!./lesson5cpp\n"
      ],
      "metadata": {
        "colab": {
          "base_uri": "https://localhost:8080/"
        },
        "id": "eDaN1XaLz3dq",
        "outputId": "50049b61-8210-442f-fc0a-91486fa106ae"
      },
      "execution_count": null,
      "outputs": [
        {
          "output_type": "stream",
          "name": "stdout",
          "text": [
            "Index: 0, Value: 10, Address: 0x7ffe382b1280\n",
            "Index: 1, Value: 20, Address: 0x7ffe382b1284\n",
            "Index: 2, Value: 30, Address: 0x7ffe382b1288\n",
            "Index: 3, Value: 40, Address: 0x7ffe382b128c\n",
            "Index: 4, Value: 50, Address: 0x7ffe382b1290\n"
          ]
        }
      ]
    },
    {
      "cell_type": "markdown",
      "source": [
        "#✅ Summary:\n",
        "Arrays are stored in contiguous memory blocks.\n",
        "\n",
        "In C/C++, you can observe actual memory addresses.\n",
        "\n",
        "Python abstracts this, but still uses internal sequential storage."
      ],
      "metadata": {
        "id": "heqQjR9w0pVB"
      }
    }
  ]
}