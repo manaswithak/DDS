{
  "nbformat": 4,
  "nbformat_minor": 0,
  "metadata": {
    "colab": {
      "provenance": [],
      "authorship_tag": "ABX9TyMiKXII2NDpWplTNdexqP96",
      "include_colab_link": true
    },
    "kernelspec": {
      "name": "python3",
      "display_name": "Python 3"
    },
    "language_info": {
      "name": "python"
    }
  },
  "cells": [
    {
      "cell_type": "markdown",
      "metadata": {
        "id": "view-in-github",
        "colab_type": "text"
      },
      "source": [
        "<a href=\"https://colab.research.google.com/github/manaswithak/DDS/blob/main/Untitled2.ipynb\" target=\"_parent\"><img src=\"https://colab.research.google.com/assets/colab-badge.svg\" alt=\"Open In Colab\"/></a>"
      ]
    },
    {
      "cell_type": "code",
      "execution_count": null,
      "metadata": {
        "colab": {
          "base_uri": "https://localhost:8080/"
        },
        "id": "RoG5y7VKuZkD",
        "outputId": "1d497b47-02ff-4ec6-b0a8-18877405be7b"
      },
      "outputs": [
        {
          "output_type": "stream",
          "name": "stdout",
          "text": [
            "Overwriting factorial.cpp\n"
          ]
        }
      ],
      "source": [
        "%%writefile factorial.cpp\n",
        "#include <iostream>\n",
        "using namespace std;\n",
        "\n",
        "int factorial(int n){\n",
        "  if (n ==1)\n",
        "  return 1;\n",
        "  else\n",
        "  return n*factorial(n-1);\n",
        "}\n",
        "int main() {\n",
        "  int num=5;\n",
        "  cout<< \"Factorial of \" <<num<< \" is \" << factorial(num)<<endl;\n",
        "  return 0;\n",
        "}"
      ]
    },
    {
      "cell_type": "code",
      "source": [
        "!g++ factorial.cpp -o factorial"
      ],
      "metadata": {
        "id": "v9bBDvzf4AXe"
      },
      "execution_count": null,
      "outputs": []
    },
    {
      "cell_type": "code",
      "source": [
        "!./factorial"
      ],
      "metadata": {
        "colab": {
          "base_uri": "https://localhost:8080/"
        },
        "id": "l3lz82MD4IHW",
        "outputId": "bbd5b18b-2d3f-4d11-c74e-d1d6135be7eb"
      },
      "execution_count": null,
      "outputs": [
        {
          "output_type": "stream",
          "name": "stdout",
          "text": [
            "Factorial of 5 is 120\n"
          ]
        }
      ]
    },
    {
      "cell_type": "code",
      "source": [
        "%%writefile gcd.cpp\n",
        "#include <iostream>\n",
        "using namespace std;\n",
        "\n",
        "int gcd(int a,int b){\n",
        "  if (b==0)\n",
        "  return a;\n",
        "  return gcd(b,a%b);\n",
        "}\n",
        "int main(){\n",
        "  int a=66,b=18;\n",
        "  cout<<\"GCD of \"<<a<<\" and \"<<b<<\" is: \"<<gcd(a,b)<<endl;\n",
        "  return 0;\n",
        "}"
      ],
      "metadata": {
        "colab": {
          "base_uri": "https://localhost:8080/"
        },
        "id": "3N8OKwyTBrdz",
        "outputId": "9ffaf0ab-e6ef-4572-9dc4-0ba739ccc279"
      },
      "execution_count": 25,
      "outputs": [
        {
          "output_type": "stream",
          "name": "stdout",
          "text": [
            "Overwriting gcd.cpp\n"
          ]
        }
      ]
    },
    {
      "cell_type": "code",
      "source": [
        "!g++ gcd.cpp"
      ],
      "metadata": {
        "id": "rxd6J3ZICVpz"
      },
      "execution_count": 26,
      "outputs": []
    },
    {
      "cell_type": "code",
      "source": [
        "!./a.out"
      ],
      "metadata": {
        "colab": {
          "base_uri": "https://localhost:8080/"
        },
        "id": "hTf4GrdMCckj",
        "outputId": "36db2d51-8e6b-4f3a-998e-f9cc6b8c3c0a"
      },
      "execution_count": 27,
      "outputs": [
        {
          "output_type": "stream",
          "name": "stdout",
          "text": [
            "GCD of 66 and 18 is: 6\n"
          ]
        }
      ]
    }
  ]
}