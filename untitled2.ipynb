{
  "nbformat": 4,
  "nbformat_minor": 0,
  "metadata": {
    "colab": {
      "provenance": [],
      "authorship_tag": "ABX9TyO3MJIrwneEqR4xZg1pMsLv",
      "include_colab_link": true
    },
    "kernelspec": {
      "name": "python3",
      "display_name": "Python 3"
    },
    "language_info": {
      "name": "python"
    }
  },
  "cells": [
    {
      "cell_type": "markdown",
      "metadata": {
        "id": "view-in-github",
        "colab_type": "text"
      },
      "source": [
        "<a href=\"https://colab.research.google.com/github/manaswithak/DDS/blob/main/untitled2.ipynb\" target=\"_parent\"><img src=\"https://colab.research.google.com/assets/colab-badge.svg\" alt=\"Open In Colab\"/></a>"
      ]
    },
    {
      "cell_type": "code",
      "execution_count": null,
      "metadata": {
        "colab": {
          "base_uri": "https://localhost:8080/"
        },
        "id": "RoG5y7VKuZkD",
        "outputId": "d521a821-0537-4779-e5e5-49b89b6a82e4"
      },
      "outputs": [
        {
          "output_type": "stream",
          "name": "stdout",
          "text": [
            "Overwriting factorial.cpp\n"
          ]
        }
      ],
      "source": [
        "%%writefile factorial.cpp\n",
        "#include <iostream>\n",
        "using namespace std;\n",
        "\n",
        "int factorial(int n){\n",
        "  if (n ==1)\n",
        "  return 1;\n",
        "  else\n",
        "  return n*factorial(n-1);\n",
        "}\n",
        "int main() {\n",
        "  int num=5;\n",
        "  cout<< \"Factorial of \" <<num<< \" is \" << factorial(num)<<endl;\n",
        "  return 0;\n",
        "}"
      ]
    },
    {
      "cell_type": "code",
      "source": [
        "!g++ factorial.cpp -o factorial"
      ],
      "metadata": {
        "id": "v9bBDvzf4AXe"
      },
      "execution_count": null,
      "outputs": []
    },
    {
      "cell_type": "code",
      "source": [
        "!./factorial"
      ],
      "metadata": {
        "colab": {
          "base_uri": "https://localhost:8080/"
        },
        "id": "l3lz82MD4IHW",
        "outputId": "e3db0e6c-01e3-4386-e2b8-e5da19c80ef0"
      },
      "execution_count": null,
      "outputs": [
        {
          "output_type": "stream",
          "name": "stdout",
          "text": [
            "Factorial of 5 is 120\n"
          ]
        }
      ]
    }
  ]
}