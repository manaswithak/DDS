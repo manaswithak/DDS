{
  "nbformat": 4,
  "nbformat_minor": 0,
  "metadata": {
    "colab": {
      "provenance": [],
      "include_colab_link": true
    },
    "kernelspec": {
      "name": "python3",
      "display_name": "Python 3"
    },
    "language_info": {
      "name": "python"
    }
  },
  "cells": [
    {
      "cell_type": "markdown",
      "metadata": {
        "id": "view-in-github",
        "colab_type": "text"
      },
      "source": [
        "<a href=\"https://colab.research.google.com/github/manaswithak/DDS/blob/main/lesson6.ipynb\" target=\"_parent\"><img src=\"https://colab.research.google.com/assets/colab-badge.svg\" alt=\"Open In Colab\"/></a>"
      ]
    },
    {
      "cell_type": "markdown",
      "source": [
        "# 📘 Lesson 6: Algorithm Performance Analysis, Time & Space Complexity\n",
        "#🎯 Objectives:\n",
        "Understand what time and space complexity mean\n",
        "\n",
        "Learn how to use Big O notation to analyze algorithms\n",
        "\n",
        "Implement and analyze simple algorithms in Python, C, and C++\n",
        "\n",
        "#📚 What is Algorithm Performance?\n",
        "Algorithm performance tells us how efficient an algorithm is in terms of:\n",
        "\n",
        "Time it takes to run (Time Complexity)\n",
        "\n",
        "Memory it uses (Space Complexity)\n",
        "\n",
        "#🧠 Real-world analogy:\n",
        "Think of an algorithm like a recipe:\n",
        "\n",
        "Time complexity = How long it takes to cook\n",
        "\n",
        "Space complexity = How many pots, pans, and utensils you need\n",
        "\n",
        "#📚 Big O Notation\n",
        "Big O notation describes the growth rate of an algorithm:\n",
        "\n",
        "##Examples\n",
        "\n",
        "O(1)->Constant time\n",
        "ex:- Accessing an array element\n",
        "\n",
        "O(n)->Linear time\t  \n",
        "Ex:-Loop through an array\n"
      ],
      "metadata": {
        "id": "KWeoGWQk1diW"
      }
    },
    {
      "cell_type": "markdown",
      "source": [
        "✅ C: Simple Search (O(n))"
      ],
      "metadata": {
        "id": "x3j8P8JN4FNS"
      }
    },
    {
      "cell_type": "code",
      "source": [
        "c_code = \"\"\"\n",
        "#include <stdio.h>\n",
        "\n",
        "int linear_search(int arr[], int n, int target) {\n",
        "    for (int i = 0; i < n; i++) {\n",
        "        if (arr[i] == target) return i;\n",
        "    }\n",
        "    return -1;\n",
        "}\n",
        "\n",
        "int main() {\n",
        "    int arr[] = {10, 20, 30, 40, 50};\n",
        "    int index = linear_search(arr, 5, 30);\n",
        "    printf(\"Found at index: %d\\\\n\", index);\n",
        "    return 0;\n",
        "}\n",
        "\"\"\"\n",
        "\n",
        "with open(\"lesson6.c\", \"w\") as f:\n",
        "    f.write(c_code)\n"
      ],
      "metadata": {
        "id": "S-lNW-jK4Hs2"
      },
      "execution_count": null,
      "outputs": []
    },
    {
      "cell_type": "code",
      "source": [
        "!gcc lesson6.c -o lesson6\n",
        "!./lesson6\n"
      ],
      "metadata": {
        "colab": {
          "base_uri": "https://localhost:8080/"
        },
        "id": "l8rdfU_S4QjI",
        "outputId": "a2448899-2e72-4988-f97d-a8c8e53f8a22"
      },
      "execution_count": null,
      "outputs": [
        {
          "output_type": "stream",
          "name": "stdout",
          "text": [
            "Found at index: 2\n"
          ]
        }
      ]
    },
    {
      "cell_type": "markdown",
      "source": [
        "✅ C++: Simple Search (O(n))"
      ],
      "metadata": {
        "id": "wnjJWc5G4TSu"
      }
    },
    {
      "cell_type": "code",
      "source": [
        "cpp_code = \"\"\"\n",
        "#include <iostream>\n",
        "using namespace std;\n",
        "\n",
        "int linear_search(int arr[], int n, int target) {\n",
        "    for (int i = 0; i < n; i++) {\n",
        "        if (arr[i] == target) return i;\n",
        "    }\n",
        "    return -1;\n",
        "}\n",
        "\n",
        "int main() {\n",
        "    int arr[] = {10, 20, 30, 40, 50};\n",
        "    int index = linear_search(arr, 5, 30);\n",
        "    cout << \"Found at index: \" << index << endl;\n",
        "    return 0;\n",
        "}\n",
        "\"\"\"\n",
        "\n",
        "with open(\"lesson6.cpp\", \"w\") as f:\n",
        "    f.write(cpp_code)\n"
      ],
      "metadata": {
        "id": "Al0D6JQp4YOW"
      },
      "execution_count": null,
      "outputs": []
    },
    {
      "cell_type": "code",
      "source": [
        "!g++ lesson6.cpp -o lesson6cpp\n",
        "!./lesson6cpp\n"
      ],
      "metadata": {
        "colab": {
          "base_uri": "https://localhost:8080/"
        },
        "id": "eeuLTECs4eo9",
        "outputId": "4d6b36ef-a2fe-4f17-8575-71d75c0a4970"
      },
      "execution_count": null,
      "outputs": [
        {
          "output_type": "stream",
          "name": "stdout",
          "text": [
            "Found at index: 2\n"
          ]
        }
      ]
    },
    {
      "cell_type": "markdown",
      "source": [
        "#✅ Summary:\n",
        "Time complexity shows how runtime grows with input.\n",
        "\n",
        "Space complexity shows how memory usage grows.\n",
        "\n",
        "Use Big O to express and compare efficiency.\n",
        "\n",
        "Practice with simple loops to build understanding."
      ],
      "metadata": {
        "id": "azJvrk7V4jQG"
      }
    }
  ]
}